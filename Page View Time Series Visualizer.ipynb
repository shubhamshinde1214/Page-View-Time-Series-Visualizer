{
 "cells": [
  {
   "cell_type": "code",
   "execution_count": null,
   "id": "6a9bda18-36d6-440f-9c3d-6ac491b26e7a",
   "metadata": {},
   "outputs": [],
   "source": []
  }
 ],
 "metadata": {
  "kernelspec": {
   "display_name": "",
   "name": ""
  },
  "language_info": {
   "name": ""
  }
 },
 "nbformat": 4,
 "nbformat_minor": 5
}
